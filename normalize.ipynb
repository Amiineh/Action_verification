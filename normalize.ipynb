{
 "cells": [
  {
   "cell_type": "code",
   "execution_count": 4,
   "metadata": {
    "ExecuteTime": {
     "end_time": "2021-05-15T10:59:30.719223Z",
     "start_time": "2021-05-15T10:59:30.713098Z"
    }
   },
   "outputs": [],
   "source": [
    "import numpy as np\n",
    "import pandas as pd\n",
    "import matplotlib\n",
    "import matplotlib.pyplot as plt\n",
    "import matplotlib.animation as animation\n",
    "from IPython.display import display, clear_output\n",
    "import os"
   ]
  },
  {
   "cell_type": "code",
   "execution_count": 5,
   "metadata": {
    "ExecuteTime": {
     "end_time": "2021-05-15T10:51:03.511615Z",
     "start_time": "2021-05-15T10:51:03.476489Z"
    }
   },
   "outputs": [
    {
     "name": "stdout",
     "output_type": "stream",
     "text": [
      "[[[ -3.5028  85.598 ]\n",
      "  [ -3.4783  85.627 ]\n",
      "  [ -3.4686  85.643 ]\n",
      "  ...\n",
      "  [ -2.4614  86.013 ]\n",
      "  [ -2.5516  86.013 ]\n",
      "  [ -2.622   86.001 ]]\n",
      "\n",
      " [[ -2.2835 113.29  ]\n",
      "  [ -2.2389 113.33  ]\n",
      "  [ -2.2281 113.37  ]\n",
      "  ...\n",
      "  [ -2.1589 113.63  ]\n",
      "  [ -2.2162 113.69  ]\n",
      "  [ -2.2523 113.72  ]]\n",
      "\n",
      " [[ -1.3527 133.48  ]\n",
      "  [ -1.2949 133.53  ]\n",
      "  [ -1.2837 133.58  ]\n",
      "  ...\n",
      "  [ -1.9986 133.77  ]\n",
      "  [ -2.054  133.88  ]\n",
      "  [ -2.0889 133.96  ]]\n",
      "\n",
      " ...\n",
      "\n",
      " [[-16.545   50.165 ]\n",
      "  [-16.37    50.04  ]\n",
      "  [-16.369   49.948 ]\n",
      "  ...\n",
      "  [-18.028   50.761 ]\n",
      "  [-16.201   50.656 ]\n",
      "  [-14.338   50.899 ]]\n",
      "\n",
      " [[-22.74    12.035 ]\n",
      "  [-22.658   11.937 ]\n",
      "  [-22.855   11.918 ]\n",
      "  ...\n",
      "  [-27.783   12.44  ]\n",
      "  [-24.097   11.954 ]\n",
      "  [-20.333   11.858 ]]\n",
      "\n",
      " [[-27.504    2.7944]\n",
      "  [-27.223    2.8864]\n",
      "  [-27.298    3.0018]\n",
      "  ...\n",
      "  [-28.499    7.4551]\n",
      "  [-24.977    7.1274]\n",
      "  [-21.616    7.1956]]]\n"
     ]
    }
   ],
   "source": [
    "data_path = os.path.join(\"Dataset\", \"Correct\", \"m01_s01_e01.txt\")\n",
    "skel = pd.read_csv(data_path, delimiter = \",\", header = None)\n",
    "skel_np = skel.to_numpy()\n",
    "skel_3d = skel_np.reshape(22,-1,2)\n",
    "print(skel_3d)"
   ]
  },
  {
   "cell_type": "code",
   "execution_count": 11,
   "metadata": {
    "ExecuteTime": {
     "end_time": "2021-05-15T10:51:06.827481Z",
     "start_time": "2021-05-15T10:51:06.812817Z"
    }
   },
   "outputs": [
    {
     "name": "stdout",
     "output_type": "stream",
     "text": [
      "[[[-0.07208749  1.76160362]\n",
      "  [-0.07156486  1.76174694]\n",
      "  [-0.07130071  1.76048174]\n",
      "  ...\n",
      "  [-0.05082469  1.77605579]\n",
      "  [-0.05256744  1.77201873]\n",
      "  [-0.05391521  1.76840652]]\n",
      "\n",
      " [[-0.04699434  2.33150394]\n",
      "  [-0.04606462  2.33172692]\n",
      "  [-0.04580093  2.33043932]\n",
      "  ...\n",
      "  [-0.04457846  2.34631067]\n",
      "  [-0.04565761  2.34221349]\n",
      "  [-0.04631321  2.33838198]]\n",
      "\n",
      " [[-0.02783852  2.74701338]\n",
      "  [-0.02664214  2.74733518]\n",
      "  [-0.0263878   2.74587708]\n",
      "  ...\n",
      "  [-0.04126847  2.76217529]\n",
      "  [-0.042316    2.75816292]\n",
      "  [-0.04295327  2.75456956]]\n",
      "\n",
      " ...\n",
      "\n",
      " [[-0.34049548  1.03239381]\n",
      "  [-0.33680729  1.0295563 ]\n",
      "  [-0.33648197  1.02673356]\n",
      "  ...\n",
      "  [-0.37225459  1.04814816]\n",
      "  [-0.33376903  1.04360249]\n",
      "  [-0.29482695  1.04661717]]\n",
      "\n",
      " [[-0.46798835  0.24767985]\n",
      "  [-0.46618079  0.24559979]\n",
      "  [-0.46980851  0.244987  ]\n",
      "  ...\n",
      "  [-0.57368256  0.25686971]\n",
      "  [-0.49644048  0.24627338]\n",
      "  [-0.4180999   0.24383164]]\n",
      "\n",
      " [[-0.56603129  0.05750865]\n",
      "  [-0.56010414  0.05938672]\n",
      "  [-0.56113904  0.06170515]\n",
      "  ...\n",
      "  [-0.58846702  0.15393805]\n",
      "  [-0.51457003  0.14683695]\n",
      "  [-0.44448175  0.14796044]]]\n"
     ]
    }
   ],
   "source": [
    "RUA = skel_3d[11,:,:]\n",
    "LUA = skel_3d[7,:,:]\n",
    "scale = np.sqrt(((RUA[:,0] - LUA[:,0]) ** 2) + ((RUA[:,1] - LUA[:,1]) ** 2))\n",
    "skel_3d = np.divide(skel_3d, scale[None,:, None])\n",
    "neck = skel_3d[3,:,:]\n",
    "waist = skel_3d[0,:,:]\n",
    "scale = np.sqrt(((neck[:,0] - waist[:,0]) ** 2) + ((neck[:,1] - waist[:,1]) ** 2))\n",
    "norm_skel = np.divide(skel_3d, scale[None,:, None])\n",
    "print(norm_skel)"
   ]
  },
  {
   "cell_type": "code",
   "execution_count": 12,
   "metadata": {
    "ExecuteTime": {
     "end_time": "2021-05-15T11:03:28.294760Z",
     "start_time": "2021-05-15T11:03:10.895405Z"
    }
   },
   "outputs": [
    {
     "data": {
      "image/png": "[encoded data removed]",
      "text/plain": [
       "<Figure size 432x288 with 1 Axes>"
      ]
     },
     "metadata": {},
     "output_type": "display_data"
    }
   ],
   "source": [
    "fig, ax = plt.subplots()\n",
    "for i in range(0,73):\n",
    "    ax.cla()\n",
    "    ax.scatter(norm_skel[:,i,0],norm_skel[:,i,1])\n",
    "    ax.plot(norm_skel[0:6,i,0],norm_skel[0:6,i,1], color = 'purple')\n",
    "    ax.plot(norm_skel[6:10,i,0],norm_skel[6:10,i,1], color = 'purple')\n",
    "    ax.plot(norm_skel[10:14,i,0],norm_skel[10:14,i,1], color = 'purple')\n",
    "    ax.plot(norm_skel[14:18,i,0],norm_skel[14:18,i,1], color = 'purple')\n",
    "    ax.plot(norm_skel[18:22,i,0],norm_skel[18:22,i,1], color = 'purple')\n",
    "    ax.plot(norm_skel[[14,0],i,0],norm_skel[[14,0],i,1], color = 'purple')\n",
    "    ax.plot(norm_skel[[18,0],i,0],norm_skel[[18,0],i,1], color = 'purple')\n",
    "    ax.plot(norm_skel[[6,3],i,0],norm_skel[[6,3],i,1], color = 'purple')\n",
    "    ax.plot(norm_skel[[10,3],i,0],norm_skel[[10,3],i,1], color = 'purple')\n",
    "    ax.set_title(\"frame {}\".format(i))\n",
    "    ax.set_xlim(-2.5,2.5)\n",
    "    ax.set_ylim(0,6)\n",
    "    display(fig)\n",
    "    \n",
    "    clear_output(wait = True)\n",
    "    plt.pause(0.01)\n"
   ]
  },
  {
   "cell_type": "code",
   "execution_count": null,
   "metadata": {},
   "outputs": [],
   "source": []
  }
 ],
 "metadata": {
  "kernelspec": {
   "display_name": "Python 3",
   "language": "python",
   "name": "python3"
  },
  "language_info": {
   "codemirror_mode": {
    "name": "ipython",
    "version": 3
   },
   "file_extension": ".py",
   "mimetype": "text/x-python",
   "name": "python",
   "nbconvert_exporter": "python",
   "pygments_lexer": "ipython3",
   "version": "3.6.5"
  },
  "toc": {
   "base_numbering": 1,
   "nav_menu": {},
   "number_sections": true,
   "sideBar": true,
   "skip_h1_title": false,
   "title_cell": "Table of Contents",
   "title_sidebar": "Contents",
   "toc_cell": false,
   "toc_position": {},
   "toc_section_display": true,
   "toc_window_display": false
  },
  "varInspector": {
   "cols": {
    "lenName": 16,
    "lenType": 16,
    "lenVar": 40
   },
   "kernels_config": {
    "python": {
     "delete_cmd_postfix": "",
     "delete_cmd_prefix": "del ",
     "library": "var_list.py",
     "varRefreshCmd": "print(var_dic_list())"
    },
    "r": {
     "delete_cmd_postfix": ") ",
     "delete_cmd_prefix": "rm(",
     "library": "var_list.r",
     "varRefreshCmd": "cat(var_dic_list()) "
    }
   },
   "types_to_exclude": [
    "module",
    "function",
    "builtin_function_or_method",
    "instance",
    "_Feature"
   ],
   "window_display": false
  }
 },
 "nbformat": 4,
 "nbformat_minor": 2
}
