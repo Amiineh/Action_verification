{
 "cells": [
  {
   "cell_type": "code",
   "execution_count": 43,
   "id": "completed-craft",
   "metadata": {},
   "outputs": [],
   "source": [
    "import numpy as np\n",
    "import os, glob\n",
    "import pandas as pd\n",
    "from scipy.interpolate import interp1d"
   ]
  },
  {
   "cell_type": "code",
   "execution_count": 23,
   "id": "overall-cancellation",
   "metadata": {},
   "outputs": [
    {
     "name": "stdout",
     "output_type": "stream",
     "text": [
      "Requirement already satisfied: scipy in c:\\users\\amine\\appdata\\local\\programs\\python\\python36\\lib\\site-packages (1.5.4)\n",
      "Requirement already satisfied: numpy>=1.14.5 in c:\\users\\amine\\appdata\\local\\programs\\python\\python36\\lib\\site-packages (from scipy) (1.19.5)\n"
     ]
    }
   ],
   "source": [
    "!python -m pip install scipy\n"
   ]
  },
  {
   "cell_type": "code",
   "execution_count": 87,
   "id": "injured-shift",
   "metadata": {},
   "outputs": [],
   "source": [
    "data_path = os.path.join(\"Dataset\", \"Incorrect\", \"m01*.txt\")\n",
    "skels = []\n",
    "sum = 0\n",
    "for f in glob.glob(data_path):\n",
    "    skel = pd.read_csv(f, delimiter=\",\", header=None)\n",
    "    skel_np = skel.to_numpy()\n",
    "    skel_3d = skel_np.reshape(22,-1,2).transpose(1, 0, 2)\n",
    "    RUA = skel_3d[:,11,:]\n",
    "    LUA = skel_3d[:,7,:]\n",
    "    scale = np.sqrt(((RUA[:,0] - LUA[:,0]) ** 2) + ((RUA[:,1] - LUA[:,1]) ** 2))\n",
    "    skels.append(np.divide(skel_3d, scale[:, None, None]))\n",
    "    sum += skel_3d.shape[0]\n",
    "\n",
    "length_mean = sum // len(skels)\n"
   ]
  },
  {
   "cell_type": "code",
   "execution_count": 88,
   "id": "molecular-mainstream",
   "metadata": {},
   "outputs": [],
   "source": [
    "skels_meanl = np.zeros([len(skels), 22, length_mean, 2])\n",
    "for i, skel in enumerate(skels):\n",
    "    xs = skel[:,:,0]\n",
    "    ys = skel[:,:,1]\n",
    "    xs_meanl = []\n",
    "    ys_meanl = []\n",
    "    for j in range(22):\n",
    "        x = xs[:, j]\n",
    "        y = ys[:, j]\n",
    "        x_interp = interp1d(np.arange(x.size), x)\n",
    "        y_interp = interp1d(np.arange(y.size), y)\n",
    "        x_meanl = x_interp(np.linspace(0, x.size-1, length_mean))\n",
    "        y_meanl = y_interp(np.linspace(0, y.size-1, length_mean))\n",
    "\n",
    "        xs_meanl.append(x_meanl)\n",
    "        ys_meanl.append(y_meanl)\n",
    "        \n",
    "##        plot interpolations\n",
    "#         xmin, xmax = 0, 1\n",
    "#         fig,(ax1,ax2) = plt.subplots(ncols=2)\n",
    "#         ax1.plot(np.linspace(xmin,xmax,x.size),x,'bo-',np.linspace(xmin,xmax,x_meanl.size),x_meanl,'rs')\n",
    "#         ax2.plot(np.linspace(xmin,xmax,y.size),y,'bo-',np.linspace(xmin,xmax,y_meanl.size),y_meanl,'rs') \n",
    "    \n",
    "\n",
    "    skels_meanl[i, :, :, 0] = np.asarray(xs_meanl)\n",
    "    skels_meanl[i, :, :, 1] = np.asarray(ys_meanl)\n",
    "\n"
   ]
  },
  {
   "cell_type": "code",
   "execution_count": 89,
   "id": "interior-stuart",
   "metadata": {},
   "outputs": [],
   "source": [
    "skels_meanl = skels_meanl.transpose(0, 1, 3, 2).reshape(len(skels)*22*2, length_mean)\n",
    "np.savetxt(os.path.join(\"Dataset\", \"Incorrect_data.txt\"), skels_meanl, delimiter=',')"
   ]
  },
  {
   "cell_type": "code",
   "execution_count": null,
   "id": "rural-iraqi",
   "metadata": {},
   "outputs": [],
   "source": []
  },
  {
   "cell_type": "code",
   "execution_count": null,
   "id": "latter-scanner",
   "metadata": {},
   "outputs": [],
   "source": []
  }
 ],
 "metadata": {
  "kernelspec": {
   "display_name": "Python 3",
   "language": "python",
   "name": "python3"
  },
  "language_info": {
   "codemirror_mode": {
    "name": "ipython",
    "version": 3
   },
   "file_extension": ".py",
   "mimetype": "text/x-python",
   "name": "python",
   "nbconvert_exporter": "python",
   "pygments_lexer": "ipython3",
   "version": "3.6.5"
  }
 },
 "nbformat": 4,
 "nbformat_minor": 5
}
