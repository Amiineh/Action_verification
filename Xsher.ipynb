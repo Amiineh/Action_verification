{
 "cells": [
  {
   "cell_type": "code",
   "execution_count": 16,
   "metadata": {
    "ExecuteTime": {
     "end_time": "2021-05-15T10:59:30.719223Z",
     "start_time": "2021-05-15T10:59:30.713098Z"
    }
   },
   "outputs": [],
   "source": [
    "import numpy as np\n",
    "import pandas as pd\n",
    "import matplotlib\n",
    "import matplotlib.pyplot as plt\n",
    "import matplotlib.animation as animation\n",
    "from IPython.display import display, clear_output"
    "from sklearn.mixture import GaussianMixture\n",
    "import os"
   ]
  },
  {
   "cell_type": "code",
   "execution_count": 9,
   "metadata": {},
   "outputs": [
    {
     "name": "stdout",
     "output_type": "stream",
     "text": [
      "Collecting matplotlib\n",
      "  Downloading matplotlib-3.3.4-cp36-cp36m-win_amd64.whl (8.5 MB)\n",
      "Collecting sklearn\n",
      "  Using cached sklearn-0.0.tar.gz (1.1 kB)\n",
      "Collecting cycler>=0.10\n",
      "  Using cached cycler-0.10.0-py2.py3-none-any.whl (6.5 kB)\n",
      "Requirement already satisfied: numpy>=1.15 in c:\\users\\amine\\appdata\\local\\programs\\python\\python36\\lib\\site-packages (from matplotlib) (1.19.5)\n",
      "Collecting pillow>=6.2.0\n",
      "  Downloading Pillow-8.2.0-cp36-cp36m-win_amd64.whl (2.2 MB)\n",
      "Collecting kiwisolver>=1.0.1\n",
      "  Downloading kiwisolver-1.3.1-cp36-cp36m-win_amd64.whl (51 kB)\n",
      "Requirement already satisfied: python-dateutil>=2.1 in c:\\users\\amine\\appdata\\local\\programs\\python\\python36\\lib\\site-packages (from matplotlib) (2.8.1)\n",
      "Requirement already satisfied: pyparsing!=2.0.4,!=2.1.2,!=2.1.6,>=2.0.3 in c:\\users\\amine\\appdata\\local\\programs\\python\\python36\\lib\\site-packages (from matplotlib) (2.4.7)\n",
      "Requirement already satisfied: six in c:\\users\\amine\\appdata\\local\\programs\\python\\python36\\lib\\site-packages (from cycler>=0.10->matplotlib) (1.15.0)\n",
      "Collecting scikit-learn\n",
      "  Downloading scikit_learn-0.24.2-cp36-cp36m-win_amd64.whl (6.8 MB)\n",
      "Collecting joblib>=0.11\n",
      "  Using cached joblib-1.0.1-py3-none-any.whl (303 kB)\n",
      "Collecting threadpoolctl>=2.0.0\n",
      "  Using cached threadpoolctl-2.1.0-py3-none-any.whl (12 kB)\n",
      "Collecting scipy>=0.19.1\n",
      "  Using cached scipy-1.5.4-cp36-cp36m-win_amd64.whl (31.2 MB)\n",
      "Using legacy 'setup.py install' for sklearn, since package 'wheel' is not installed.\n",
      "Installing collected packages: threadpoolctl, scipy, joblib, scikit-learn, pillow, kiwisolver, cycler, sklearn, matplotlib\n",
      "    Running setup.py install for sklearn: started\n",
      "    Running setup.py install for sklearn: finished with status 'done'\n",
      "Successfully installed cycler-0.10.0 joblib-1.0.1 kiwisolver-1.3.1 matplotlib-3.3.4 pillow-8.2.0 scikit-learn-0.24.2 scipy-1.5.4 sklearn-0.0 threadpoolctl-2.1.0\n"
     ]
    }
   ],
   "source": [
    "!python -m pip install matplotlib sklearn"
   ]
  },
  {
   "cell_type": "code",
   "execution_count": 20,
   "metadata": {
    "ExecuteTime": {
     "end_time": "2021-05-15T10:08:41.463989Z",
     "start_time": "2021-05-15T10:08:41.436265Z"
    }
   },
   "outputs": [
    {
     "name": "stdout",
     "output_type": "stream",
     "text": [
      "[[[ -3.5028  85.598 ]\n",
      "  [ -3.4783  85.627 ]\n",
      "  [ -3.4686  85.643 ]\n",
      "  ...\n",
      "  [ -2.4614  86.013 ]\n",
      "  [ -2.5516  86.013 ]\n",
      "  [ -2.622   86.001 ]]\n",
      "\n",
      " [[ -2.2835 113.29  ]\n",
      "  [ -2.2389 113.33  ]\n",
      "  [ -2.2281 113.37  ]\n",
      "  ...\n",
      "  [ -2.1589 113.63  ]\n",
      "  [ -2.2162 113.69  ]\n",
      "  [ -2.2523 113.72  ]]\n",
      "\n",
      " [[ -1.3527 133.48  ]\n",
      "  [ -1.2949 133.53  ]\n",
      "  [ -1.2837 133.58  ]\n",
      "  ...\n",
      "  [ -1.9986 133.77  ]\n",
      "  [ -2.054  133.88  ]\n",
      "  [ -2.0889 133.96  ]]\n",
      "\n",
      " ...\n",
      "\n",
      " [[-16.545   50.165 ]\n",
      "  [-16.37    50.04  ]\n",
      "  [-16.369   49.948 ]\n",
      "  ...\n",
      "  [-18.028   50.761 ]\n",
      "  [-16.201   50.656 ]\n",
      "  [-14.338   50.899 ]]\n",
      "\n",
      " [[-22.74    12.035 ]\n",
      "  [-22.658   11.937 ]\n",
      "  [-22.855   11.918 ]\n",
      "  ...\n",
      "  [-27.783   12.44  ]\n",
      "  [-24.097   11.954 ]\n",
      "  [-20.333   11.858 ]]\n",
      "\n",
      " [[-27.504    2.7944]\n",
      "  [-27.223    2.8864]\n",
      "  [-27.298    3.0018]\n",
      "  ...\n",
      "  [-28.499    7.4551]\n",
      "  [-24.977    7.1274]\n",
      "  [-21.616    7.1956]]]\n"
     ]
    }
   ],
   "source": [
    "path = os.path.join(\"Dataset\",\"Correct\",\"m01_s01_e01.txt\")\n",
    "skel = pd.read_csv(path, delimiter = \",\", header = None)\n",
    "skel_np = skel.to_numpy()\n",
    "skel_3d = skel_np.reshape(22,-1,2)\n",
    "print(skel_3d)"
   ]
  },
  {
   "cell_type": "code",
   "execution_count": 21,
   "metadata": {
    "ExecuteTime": {
     "end_time": "2021-05-15T10:22:21.037431Z",
     "start_time": "2021-05-15T10:22:21.027391Z"
    }
   },
   "outputs": [
    {
     "name": "stdout",
     "output_type": "stream",
     "text": [
      "[[[-0.11267781  2.75351014]\n",
      "  [-0.11172497  2.75038781]\n",
      "  [-0.11132091  2.74861801]\n",
      "  ...\n",
      "  [-0.07880553  2.75383946]\n",
      "  [-0.08157025  2.74968716]\n",
      "  [-0.0838098   2.7489422 ]]\n",
      "\n",
      " [[-0.07345546  3.64430434]\n",
      "  [-0.07191474  3.64022389]\n",
      "  [-0.07150842  3.63848561]\n",
      "  ...\n",
      "  [-0.06912053  3.63804051]\n",
      "  [-0.07084809  3.63447309]\n",
      "  [-0.07199268  3.63495432]]\n",
      "\n",
      " [[-0.04351355  4.29377477]\n",
      "  [-0.04159292  4.28905934]\n",
      "  [-0.04119894  4.28710336]\n",
      "  ...\n",
      "  [-0.06398828  4.28285381]\n",
      "  [-0.06566284  4.27991254]\n",
      "  [-0.06676975  4.28190715]]\n",
      "\n",
      " ...\n",
      "\n",
      " [[-0.53221834  1.61370401]\n",
      "  [-0.52581369  1.60731318]\n",
      "  [-0.52534507  1.60302619]\n",
      "  ...\n",
      "  [-0.57719435  1.62519206]\n",
      "  [-0.51791801  1.6193849 ]\n",
      "  [-0.45830087  1.62693932]]\n",
      "\n",
      " [[-0.73149864  0.38714099]\n",
      "  [-0.72778781  0.38342321]\n",
      "  [-0.73350612  0.38249512]\n",
      "  ...\n",
      "  [-0.88951579  0.39828587]\n",
      "  [-0.7703395   0.38214875]\n",
      "  [-0.64992549  0.37902997]]\n",
      "\n",
      " [[-0.88474664  0.08989005]\n",
      "  [-0.8744182   0.09271281]\n",
      "  [-0.87609932  0.09633947]\n",
      "  ...\n",
      "  [-0.91243964  0.23868658]\n",
      "  [-0.79847158  0.22785068]\n",
      "  [-0.69093539  0.23000068]]]\n"
     ]
    }
   ],
   "source": [
    "RUA = skel_3d[11,:,:]\n",
    "LUA = skel_3d[7,:,:]\n",
    "scale = np.sqrt(((RUA[:,0] - LUA[:,0]) ** 2) + ((RUA[:,1] - LUA[:,1]) ** 2))\n",
    "norm_skel = np.divide(skel_3d,scale[None,:,None])\n",
    "print(norm_skel)"
   ]
  },
  {
   "cell_type": "code",
   "execution_count": 22,
   "metadata": {
    "ExecuteTime": {
     "end_time": "2021-05-15T11:03:28.294760Z",
     "start_time": "2021-05-15T11:03:10.895405Z"
    }
   },
   "outputs": [
    {
     "data": {
      "image/png": "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\n",
      "text/plain": [
       "<Figure size 432x288 with 1 Axes>"
      ]
     },
     "metadata": {
      "needs_background": "light"
     },
     "output_type": "display_data"
    }
   ],
   "source": [
    "fig, ax = plt.subplots()\n",
    "for i in range(0,73):\n",
    "    ax.cla()\n",
    "    ax.scatter(norm_skel[:,i,0],norm_skel[:,i,1])\n",
    "    ax.plot(norm_skel[0:6,i,0],norm_skel[0:6,i,1], color = 'purple')\n",
    "    ax.plot(norm_skel[6:10,i,0],norm_skel[6:10,i,1], color = 'purple')\n",
    "    ax.plot(norm_skel[10:14,i,0],norm_skel[10:14,i,1], color = 'purple')\n",
    "    ax.plot(norm_skel[14:18,i,0],norm_skel[14:18,i,1], color = 'purple')\n",
    "    ax.plot(norm_skel[18:22,i,0],norm_skel[18:22,i,1], color = 'purple')\n",
    "    ax.plot(norm_skel[[14,0],i,0],norm_skel[[14,0],i,1], color = 'purple')\n",
    "    ax.plot(norm_skel[[18,0],i,0],norm_skel[[18,0],i,1], color = 'purple')\n",
    "    ax.plot(norm_skel[[6,3],i,0],norm_skel[[6,3],i,1], color = 'purple')\n",
    "    ax.plot(norm_skel[[10,3],i,0],norm_skel[[10,3],i,1], color = 'purple')\n",
    "    ax.set_title(\"frame {}\".format(i))\n",
    "    ax.set_xlim(-2.5,2.5)\n",
    "    ax.set_ylim(0,6)\n",
    "    display(fig)\n",
    "    \n",
    "    clear_output(wait = True)\n",
    "    plt.pause(0.01)\n"
   ]
  },
  {
   "cell_type": "code",
   "execution_count": null,
   "metadata": {},
   "outputs": [],
   "source": []
  }
 ],
 "metadata": {
  "kernelspec": {
   "display_name": "Python 3",
   "language": "python",
   "name": "python3"
  },
  "language_info": {
   "codemirror_mode": {
    "name": "ipython",
    "version": 3
   },
   "file_extension": ".py",
   "mimetype": "text/x-python",
   "name": "python",
   "nbconvert_exporter": "python",
   "pygments_lexer": "ipython3",
   "version": "3.6.5"
  },
  "toc": {
   "base_numbering": 1,
   "nav_menu": {},
   "number_sections": true,
   "sideBar": true,
   "skip_h1_title": false,
   "title_cell": "Table of Contents",
   "title_sidebar": "Contents",
   "toc_cell": false,
   "toc_position": {},
   "toc_section_display": true,
   "toc_window_display": false
  },
  "varInspector": {
   "cols": {
    "lenName": 16,
    "lenType": 16,
    "lenVar": 40
   },
   "kernels_config": {
    "python": {
     "delete_cmd_postfix": "",
     "delete_cmd_prefix": "del ",
     "library": "var_list.py",
     "varRefreshCmd": "print(var_dic_list())"
    },
    "r": {
     "delete_cmd_postfix": ") ",
     "delete_cmd_prefix": "rm(",
     "library": "var_list.r",
     "varRefreshCmd": "cat(var_dic_list()) "
    }
   },
   "types_to_exclude": [
    "module",
    "function",
    "builtin_function_or_method",
    "instance",
    "_Feature"
   ],
   "window_display": false
  }
 },
 "nbformat": 4,
 "nbformat_minor": 2
}
