{
 "cells": [
  {
   "cell_type": "code",
   "execution_count": 1,
   "metadata": {
    "ExecuteTime": {
     "end_time": "2021-05-15T08:00:33.133851Z",
     "start_time": "2021-05-15T08:00:31.839163Z"
    }
   },
   "outputs": [],
   "source": [
    "import numpy as np\n",
    "import pandas as pd\n",
    "import matplotlib\n",
    "import matplotlib.pyplot as plt\n",
    "import matplotlib.animation as animation"
   ]
  },
  {
   "cell_type": "code",
   "execution_count": 33,
   "metadata": {
    "ExecuteTime": {
     "end_time": "2021-05-15T10:08:41.463989Z",
     "start_time": "2021-05-15T10:08:41.436265Z"
    }
   },
   "outputs": [
    {
     "name": "stdout",
     "output_type": "stream",
     "text": [
      "[[[ -3.5028  85.598 ]\n",
      "  [ -3.4783  85.627 ]\n",
      "  [ -3.4686  85.643 ]\n",
      "  ...\n",
      "  [ -2.4614  86.013 ]\n",
      "  [ -2.5516  86.013 ]\n",
      "  [ -2.622   86.001 ]]\n",
      "\n",
      " [[ -2.2835 113.29  ]\n",
      "  [ -2.2389 113.33  ]\n",
      "  [ -2.2281 113.37  ]\n",
      "  ...\n",
      "  [ -2.1589 113.63  ]\n",
      "  [ -2.2162 113.69  ]\n",
      "  [ -2.2523 113.72  ]]\n",
      "\n",
      " [[ -1.3527 133.48  ]\n",
      "  [ -1.2949 133.53  ]\n",
      "  [ -1.2837 133.58  ]\n",
      "  ...\n",
      "  [ -1.9986 133.77  ]\n",
      "  [ -2.054  133.88  ]\n",
      "  [ -2.0889 133.96  ]]\n",
      "\n",
      " ...\n",
      "\n",
      " [[-16.545   50.165 ]\n",
      "  [-16.37    50.04  ]\n",
      "  [-16.369   49.948 ]\n",
      "  ...\n",
      "  [-18.028   50.761 ]\n",
      "  [-16.201   50.656 ]\n",
      "  [-14.338   50.899 ]]\n",
      "\n",
      " [[-22.74    12.035 ]\n",
      "  [-22.658   11.937 ]\n",
      "  [-22.855   11.918 ]\n",
      "  ...\n",
      "  [-27.783   12.44  ]\n",
      "  [-24.097   11.954 ]\n",
      "  [-20.333   11.858 ]]\n",
      "\n",
      " [[-27.504    2.7944]\n",
      "  [-27.223    2.8864]\n",
      "  [-27.298    3.0018]\n",
      "  ...\n",
      "  [-28.499    7.4551]\n",
      "  [-24.977    7.1274]\n",
      "  [-21.616    7.1956]]]\n"
     ]
    }
   ],
   "source": [
    "skel = pd.read_csv(\"~/Desktop/GyMirror/Dataset/Correct/m01_s01_e01.txt\", delimiter = \",\", header = None)\n",
    "skel_np = skel.to_numpy()\n",
    "skel_3d = skel_np.reshape(22,-1,2)\n",
    "print(skel_3d)"
   ]
  },
  {
   "cell_type": "code",
   "execution_count": 57,
   "metadata": {
    "ExecuteTime": {
     "end_time": "2021-05-15T10:22:08.410446Z",
     "start_time": "2021-05-15T10:22:08.403006Z"
    }
   },
   "outputs": [
    {
     "name": "stdout",
     "output_type": "stream",
     "text": [
      "[11.57   11.628  11.629  11.684  11.647  11.566  11.494  11.354  11.139\n",
      " 11.015  10.855  10.696  10.678  10.541  10.35   10.351  10.528  10.529\n",
      " 10.639  10.957  10.999  10.757  10.593  10.448  10.036   9.7661  9.6511\n",
      "  9.6312  9.5295  9.4338  9.3279  9.0707  8.8826  9.0445  9.2119  9.2686\n",
      "  9.3154  9.2071  8.9675  8.8211  8.6527  8.504   8.2742  8.2126  8.4624\n",
      "  8.8559  9.4847 10.108  10.596  10.883  11.259  11.515  11.705  11.806\n",
      " 12.024  12.062  11.986  11.861  11.738  11.684  11.573  11.464  11.453\n",
      " 11.531  11.501  11.494  11.54   11.532  11.528  11.616  11.69   11.733\n",
      " 11.742 ]\n"
     ]
    }
   ],
   "source": [
    "print(LUA[:,0])"
   ]
  },
  {
   "cell_type": "code",
   "execution_count": 58,
   "metadata": {
    "ExecuteTime": {
     "end_time": "2021-05-15T10:22:21.037431Z",
     "start_time": "2021-05-15T10:22:21.027391Z"
    }
   },
   "outputs": [
    {
     "name": "stdout",
     "output_type": "stream",
     "text": [
      "[[[-0.11267781  2.75351014]\n",
      "  [-0.11172497  2.75038781]\n",
      "  [-0.11132091  2.74861801]\n",
      "  ...\n",
      "  [-0.07880553  2.75383946]\n",
      "  [-0.08157025  2.74968716]\n",
      "  [-0.0838098   2.7489422 ]]\n",
      "\n",
      " [[-0.07345546  3.64430434]\n",
      "  [-0.07191474  3.64022389]\n",
      "  [-0.07150842  3.63848561]\n",
      "  ...\n",
      "  [-0.06912053  3.63804051]\n",
      "  [-0.07084809  3.63447309]\n",
      "  [-0.07199268  3.63495432]]\n",
      "\n",
      " [[-0.04351355  4.29377477]\n",
      "  [-0.04159292  4.28905934]\n",
      "  [-0.04119894  4.28710336]\n",
      "  ...\n",
      "  [-0.06398828  4.28285381]\n",
      "  [-0.06566284  4.27991254]\n",
      "  [-0.06676975  4.28190715]]\n",
      "\n",
      " ...\n",
      "\n",
      " [[-0.53221834  1.61370401]\n",
      "  [-0.52581369  1.60731318]\n",
      "  [-0.52534507  1.60302619]\n",
      "  ...\n",
      "  [-0.57719435  1.62519206]\n",
      "  [-0.51791801  1.6193849 ]\n",
      "  [-0.45830087  1.62693932]]\n",
      "\n",
      " [[-0.73149864  0.38714099]\n",
      "  [-0.72778781  0.38342321]\n",
      "  [-0.73350612  0.38249512]\n",
      "  ...\n",
      "  [-0.88951579  0.39828587]\n",
      "  [-0.7703395   0.38214875]\n",
      "  [-0.64992549  0.37902997]]\n",
      "\n",
      " [[-0.88474664  0.08989005]\n",
      "  [-0.8744182   0.09271281]\n",
      "  [-0.87609932  0.09633947]\n",
      "  ...\n",
      "  [-0.91243964  0.23868658]\n",
      "  [-0.79847158  0.22785068]\n",
      "  [-0.69093539  0.23000068]]]\n"
     ]
    }
   ],
   "source": [
    "RUA = skel_3d[11,:,:]\n",
    "LUA = skel_3d[7,:,:]\n",
    "scale = np.sqrt(((RUA[:,0] - LUA[:,0]) ** 2) + ((RUA[:,1] - LUA[:,1]) ** 2))\n",
    "norm_skel = np.divide(skel_3d,scale[None,:,None])\n",
    "print(norm_skel)"
   ]
  },
  {
   "cell_type": "code",
   "execution_count": 59,
   "metadata": {
    "ExecuteTime": {
     "end_time": "2021-05-15T10:22:23.442868Z",
     "start_time": "2021-05-15T10:22:23.222346Z"
    }
   },
   "outputs": [
    {
     "data": {
      "image/png": "[encoded data removed]",
      "text/plain": [
       "<Figure size 432x288 with 1 Axes>"
      ]
     },
     "metadata": {
      "needs_background": "light"
     },
     "output_type": "display_data"
    }
   ],
   "source": [
    "plt.scatter(norm_skel[:,0,0],norm_skel[:,0,1])\n",
    "plt.plot(norm_skel[0:6,0,0],norm_skel[0:6,0,1], color = 'purple')\n",
    "plt.plot(norm_skel[6:10,0,0],norm_skel[6:10,0,1], color = 'purple')\n",
    "plt.plot(norm_skel[10:14,0,0],norm_skel[10:14,0,1], color = 'purple')\n",
    "plt.plot(norm_skel[14:18,0,0],norm_skel[14:18,0,1], color = 'purple')\n",
    "plt.plot(norm_skel[18:22,0,0],norm_skel[18:22,0,1], color = 'purple')\n",
    "plt.plot(norm_skel[[14,0],0,0],norm_skel[[14,0],0,1], color = 'purple')\n",
    "plt.plot(norm_skel[[18,0],0,0],norm_skel[[18,0],0,1], color = 'purple')\n",
    "plt.plot(norm_skel[[6,3],0,0],norm_skel[[6,3],0,1], color = 'purple')\n",
    "plt.plot(norm_skel[[10,3],0,0],norm_skel[[10,3],0,1], color = 'purple')\n",
    "plt.show()"
   ]
  },
  {
   "cell_type": "code",
   "execution_count": null,
   "metadata": {},
   "outputs": [],
   "source": []
  }
 ],
 "metadata": {
  "kernelspec": {
   "display_name": "Python 3",
   "language": "python",
   "name": "python3"
  },
  "language_info": {
   "codemirror_mode": {
    "name": "ipython",
    "version": 3
   },
   "file_extension": ".py",
   "mimetype": "text/x-python",
   "name": "python",
   "nbconvert_exporter": "python",
   "pygments_lexer": "ipython3",
   "version": "3.7.3"
  },
  "toc": {
   "base_numbering": 1,
   "nav_menu": {},
   "number_sections": true,
   "sideBar": true,
   "skip_h1_title": false,
   "title_cell": "Table of Contents",
   "title_sidebar": "Contents",
   "toc_cell": false,
   "toc_position": {},
   "toc_section_display": true,
   "toc_window_display": false
  },
  "varInspector": {
   "cols": {
    "lenName": 16,
    "lenType": 16,
    "lenVar": 40
   },
   "kernels_config": {
    "python": {
     "delete_cmd_postfix": "",
     "delete_cmd_prefix": "del ",
     "library": "var_list.py",
     "varRefreshCmd": "print(var_dic_list())"
    },
    "r": {
     "delete_cmd_postfix": ") ",
     "delete_cmd_prefix": "rm(",
     "library": "var_list.r",
     "varRefreshCmd": "cat(var_dic_list()) "
    }
   },
   "types_to_exclude": [
    "module",
    "function",
    "builtin_function_or_method",
    "instance",
    "_Feature"
   ],
   "window_display": false
  }
 },
 "nbformat": 4,
 "nbformat_minor": 2
}
