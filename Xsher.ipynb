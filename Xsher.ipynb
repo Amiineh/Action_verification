{
 "cells": [
  {
   "cell_type": "code",
   "execution_count": 16,
   "metadata": {
    "ExecuteTime": {
     "end_time": "2021-05-15T10:59:30.719223Z",
     "start_time": "2021-05-15T10:59:30.713098Z"
    }
   },
   "outputs": [],
   "source": [
    "import numpy as np\n",
    "import pandas as pd\n",
    "import matplotlib\n",
    "import matplotlib.pyplot as plt\n",
    "import matplotlib.animation as animation\n",
    "from IPython.display import display, clear_output"
   ]
  },
  {
   "cell_type": "code",
   "execution_count": 5,
   "metadata": {
    "ExecuteTime": {
     "end_time": "2021-05-15T10:51:03.511615Z",
     "start_time": "2021-05-15T10:51:03.476489Z"
    }
   },
   "outputs": [
    {
     "name": "stdout",
     "output_type": "stream",
     "text": [
      "[[[ -3.5028  85.598 ]\n",
      "  [ -3.4783  85.627 ]\n",
      "  [ -3.4686  85.643 ]\n",
      "  ...\n",
      "  [ -2.4614  86.013 ]\n",
      "  [ -2.5516  86.013 ]\n",
      "  [ -2.622   86.001 ]]\n",
      "\n",
      " [[ -2.2835 113.29  ]\n",
      "  [ -2.2389 113.33  ]\n",
      "  [ -2.2281 113.37  ]\n",
      "  ...\n",
      "  [ -2.1589 113.63  ]\n",
      "  [ -2.2162 113.69  ]\n",
      "  [ -2.2523 113.72  ]]\n",
      "\n",
      " [[ -1.3527 133.48  ]\n",
      "  [ -1.2949 133.53  ]\n",
      "  [ -1.2837 133.58  ]\n",
      "  ...\n",
      "  [ -1.9986 133.77  ]\n",
      "  [ -2.054  133.88  ]\n",
      "  [ -2.0889 133.96  ]]\n",
      "\n",
      " ...\n",
      "\n",
      " [[-16.545   50.165 ]\n",
      "  [-16.37    50.04  ]\n",
      "  [-16.369   49.948 ]\n",
      "  ...\n",
      "  [-18.028   50.761 ]\n",
      "  [-16.201   50.656 ]\n",
      "  [-14.338   50.899 ]]\n",
      "\n",
      " [[-22.74    12.035 ]\n",
      "  [-22.658   11.937 ]\n",
      "  [-22.855   11.918 ]\n",
      "  ...\n",
      "  [-27.783   12.44  ]\n",
      "  [-24.097   11.954 ]\n",
      "  [-20.333   11.858 ]]\n",
      "\n",
      " [[-27.504    2.7944]\n",
      "  [-27.223    2.8864]\n",
      "  [-27.298    3.0018]\n",
      "  ...\n",
      "  [-28.499    7.4551]\n",
      "  [-24.977    7.1274]\n",
      "  [-21.616    7.1956]]]\n"
     ]
    }
   ],
   "source": [
    "skel = pd.read_csv(\"~/Desktop/GyMirror/Dataset/Correct/m01_s01_e01.txt\", delimiter = \",\", header = None)\n",
    "skel_np = skel.to_numpy()\n",
    "skel_3d = skel_np.reshape(22,-1,2)\n",
    "print(skel_3d)"
   ]
  },
  {
   "cell_type": "code",
   "execution_count": 6,
   "metadata": {
    "ExecuteTime": {
     "end_time": "2021-05-15T10:51:06.827481Z",
     "start_time": "2021-05-15T10:51:06.812817Z"
    }
   },
   "outputs": [
    {
     "name": "stdout",
     "output_type": "stream",
     "text": [
      "[[[-0.11267781  2.75351014]\n",
      "  [-0.11172497  2.75038781]\n",
      "  [-0.11132091  2.74861801]\n",
      "  ...\n",
      "  [-0.07880553  2.75383946]\n",
      "  [-0.08157025  2.74968716]\n",
      "  [-0.0838098   2.7489422 ]]\n",
      "\n",
      " [[-0.07345546  3.64430434]\n",
      "  [-0.07191474  3.64022389]\n",
      "  [-0.07150842  3.63848561]\n",
      "  ...\n",
      "  [-0.06912053  3.63804051]\n",
      "  [-0.07084809  3.63447309]\n",
      "  [-0.07199268  3.63495432]]\n",
      "\n",
      " [[-0.04351355  4.29377477]\n",
      "  [-0.04159292  4.28905934]\n",
      "  [-0.04119894  4.28710336]\n",
      "  ...\n",
      "  [-0.06398828  4.28285381]\n",
      "  [-0.06566284  4.27991254]\n",
      "  [-0.06676975  4.28190715]]\n",
      "\n",
      " ...\n",
      "\n",
      " [[-0.53221834  1.61370401]\n",
      "  [-0.52581369  1.60731318]\n",
      "  [-0.52534507  1.60302619]\n",
      "  ...\n",
      "  [-0.57719435  1.62519206]\n",
      "  [-0.51791801  1.6193849 ]\n",
      "  [-0.45830087  1.62693932]]\n",
      "\n",
      " [[-0.73149864  0.38714099]\n",
      "  [-0.72778781  0.38342321]\n",
      "  [-0.73350612  0.38249512]\n",
      "  ...\n",
      "  [-0.88951579  0.39828587]\n",
      "  [-0.7703395   0.38214875]\n",
      "  [-0.64992549  0.37902997]]\n",
      "\n",
      " [[-0.88474664  0.08989005]\n",
      "  [-0.8744182   0.09271281]\n",
      "  [-0.87609932  0.09633947]\n",
      "  ...\n",
      "  [-0.91243964  0.23868658]\n",
      "  [-0.79847158  0.22785068]\n",
      "  [-0.69093539  0.23000068]]]\n"
     ]
    }
   ],
   "source": [
    "RUA = skel_3d[11,:,:]\n",
    "LUA = skel_3d[7,:,:]\n",
    "scale = np.sqrt(((RUA[:,0] - LUA[:,0]) ** 2) + ((RUA[:,1] - LUA[:,1]) ** 2))\n",
    "norm_skel = np.divide(skel_3d,scale[None,:,None])\n",
    "print(norm_skel)"
   ]
  },
  {
   "cell_type": "code",
   "execution_count": 21,
   "metadata": {
    "ExecuteTime": {
     "end_time": "2021-05-15T11:03:28.294760Z",
     "start_time": "2021-05-15T11:03:10.895405Z"
    }
   },
   "outputs": [
    {
     "data": {
      "image/png": "[encoded data removed]",
      "text/plain": [
       "<Figure size 432x288 with 1 Axes>"
      ]
     },
     "metadata": {},
     "output_type": "display_data"
    }
   ],
   "source": [
    "fig, ax = plt.subplots()\n",
    "for i in range(0,73):\n",
    "    ax.cla()\n",
    "    ax.scatter(norm_skel[:,i,0],norm_skel[:,i,1])\n",
    "    ax.plot(norm_skel[0:6,i,0],norm_skel[0:6,i,1], color = 'purple')\n",
    "    ax.plot(norm_skel[6:10,i,0],norm_skel[6:10,i,1], color = 'purple')\n",
    "    ax.plot(norm_skel[10:14,i,0],norm_skel[10:14,i,1], color = 'purple')\n",
    "    ax.plot(norm_skel[14:18,i,0],norm_skel[14:18,i,1], color = 'purple')\n",
    "    ax.plot(norm_skel[18:22,i,0],norm_skel[18:22,i,1], color = 'purple')\n",
    "    ax.plot(norm_skel[[14,0],i,0],norm_skel[[14,0],i,1], color = 'purple')\n",
    "    ax.plot(norm_skel[[18,0],i,0],norm_skel[[18,0],i,1], color = 'purple')\n",
    "    ax.plot(norm_skel[[6,3],i,0],norm_skel[[6,3],i,1], color = 'purple')\n",
    "    ax.plot(norm_skel[[10,3],i,0],norm_skel[[10,3],i,1], color = 'purple')\n",
    "    ax.set_title(\"frame {}\".format(i))\n",
    "    ax.set_xlim(-2.5,2.5)\n",
    "    ax.set_ylim(0,6)\n",
    "    display(fig)\n",
    "    \n",
    "    clear_output(wait = True)\n",
    "    plt.pause(0.01)\n"
   ]
  },
  {
   "cell_type": "code",
   "execution_count": null,
   "metadata": {},
   "outputs": [],
   "source": []
  }
 ],
 "metadata": {
  "kernelspec": {
   "display_name": "Python 3",
   "language": "python",
   "name": "python3"
  },
  "language_info": {
   "codemirror_mode": {
    "name": "ipython",
    "version": 3
   },
   "file_extension": ".py",
   "mimetype": "text/x-python",
   "name": "python",
   "nbconvert_exporter": "python",
   "pygments_lexer": "ipython3",
   "version": "3.7.3"
  },
  "toc": {
   "base_numbering": 1,
   "nav_menu": {},
   "number_sections": true,
   "sideBar": true,
   "skip_h1_title": false,
   "title_cell": "Table of Contents",
   "title_sidebar": "Contents",
   "toc_cell": false,
   "toc_position": {},
   "toc_section_display": true,
   "toc_window_display": false
  },
  "varInspector": {
   "cols": {
    "lenName": 16,
    "lenType": 16,
    "lenVar": 40
   },
   "kernels_config": {
    "python": {
     "delete_cmd_postfix": "",
     "delete_cmd_prefix": "del ",
     "library": "var_list.py",
     "varRefreshCmd": "print(var_dic_list())"
    },
    "r": {
     "delete_cmd_postfix": ") ",
     "delete_cmd_prefix": "rm(",
     "library": "var_list.r",
     "varRefreshCmd": "cat(var_dic_list()) "
    }
   },
   "types_to_exclude": [
    "module",
    "function",
    "builtin_function_or_method",
    "instance",
    "_Feature"
   ],
   "window_display": false
  }
 },
 "nbformat": 4,
 "nbformat_minor": 2
}
