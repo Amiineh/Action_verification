{
 "cells": [
  {
   "cell_type": "code",
   "execution_count": 1,
   "id": "bound-tomorrow",
   "metadata": {},
   "outputs": [],
   "source": [
    "import numpy as np\n",
    "import os\n",
    "from sklearn.mixture import GaussianMixture\n",
    "import matplotlib.pyplot as plt \n",
    "from IPython.display import display, clear_output"
   ]
  },
  {
   "cell_type": "code",
   "execution_count": 2,
   "id": "ignored-guide",
   "metadata": {},
   "outputs": [],
   "source": [
    "import itertools\n",
    "\n",
    "import numpy as np\n",
    "from scipy import linalg\n",
    "import matplotlib.pyplot as plt\n",
    "import matplotlib as mpl\n",
    "\n",
    "from sklearn import mixture\n",
    "\n",
    "color_iter = itertools.cycle(['navy', 'c', 'cornflowerblue', 'gold',\n",
    "                              'darkorange'])\n",
    "\n",
    "\n",
    "def plot_results(X, Y_, means, covariances, index, title):\n",
    "    splot = plt.subplot(2, 1, 1 + index)\n",
    "    for i, (mean, covar, color) in enumerate(zip(\n",
    "            means, covariances, color_iter)):\n",
    "        v, w = linalg.eigh(covar)\n",
    "        v = 2. * np.sqrt(2.) * np.sqrt(v)\n",
    "        u = w[0] / linalg.norm(w[0])\n",
    "        # as the DP will not use every component it has access to\n",
    "        # unless it needs it, we shouldn't plot the redundant\n",
    "        # components.\n",
    "        if not np.any(Y_ == i):\n",
    "            continue\n",
    "        plt.scatter(X[Y_ == i, 0], X[Y_ == i, 1], .8, color=color)\n",
    "\n",
    "        # Plot an ellipse to show the Gaussian component\n",
    "        angle = np.arctan(u[1] / u[0])\n",
    "        angle = 180. * angle / np.pi  # convert to degrees\n",
    "        ell = mpl.patches.Ellipse(mean, v[0], v[1], 180. + angle, color=color)\n",
    "        ell.set_clip_box(splot.bbox)\n",
    "        ell.set_alpha(0.5)\n",
    "        splot.add_artist(ell)\n",
    "\n",
    "#     plt.xlim(-9., 5.)\n",
    "#     plt.ylim(-3., 6.)\n",
    "    plt.xticks(())\n",
    "    plt.yticks(())\n",
    "    plt.title(title)"
   ]
  },
  {
   "cell_type": "code",
   "execution_count": 113,
   "id": "removable-sandwich",
   "metadata": {},
   "outputs": [],
   "source": [
    "# 100 * 22 * 2 , 81\n",
    "num_samples = 100\n",
    "correct = np.genfromtxt(os.path.join(\"Dataset\", \"Correct_data.txt\"), delimiter=',')#.reshape(num_samples, 22, 2, -1)\n",
    "incorrect = np.genfromtxt(os.path.join(\"Dataset\", \"Incorrect_data.txt\"), delimiter=',')#.reshape(num_samples, 22, 2, -1)\n",
    "\n",
    "# correct = correct.transpose(3, 0, 1, 2).reshape(-1, 100)\n",
    "# incorrect = incorrect.transpose(3, 0, 1, 2).reshape(-1, 100)\n",
    "# correct = correct[:, 0, 0, :].reshape(num_samples, -1)\n",
    "# print(incorrect.shape)"
   ]
  },
  {
   "cell_type": "code",
   "execution_count": 114,
   "id": "loved-medline",
   "metadata": {},
   "outputs": [],
   "source": [
    "gmm = GaussianMixture(n_components=22).fit(correct)"
   ]
  },
  {
   "cell_type": "code",
   "execution_count": 115,
   "id": "boring-enemy",
   "metadata": {},
   "outputs": [
    {
     "name": "stderr",
     "output_type": "stream",
     "text": [
      "c:\\users\\amine\\appdata\\local\\programs\\python\\python36\\lib\\site-packages\\ipykernel_launcher.py:29: RuntimeWarning: divide by zero encountered in double_scalars\n"
     ]
    },
    {
     "data": {
      "image/png": "[encoded data removed]",
      "text/plain": [
       "<Figure size 432x288 with 1 Axes>"
      ]
     },
     "metadata": {},
     "output_type": "display_data"
    }
   ],
   "source": [
    "plot_results(correct, gmm.predict(correct), gmm.means_, gmm.covariances_, 0,\n",
    "             'Gaussian Mixture')\n"
   ]
  },
  {
   "cell_type": "code",
   "execution_count": 116,
   "id": "positive-namibia",
   "metadata": {},
   "outputs": [
    {
     "name": "stdout",
     "output_type": "stream",
     "text": [
      "-61.566681066500564\n",
      "334.92792716650456\n"
     ]
    }
   ],
   "source": [
    "score_inc = gmm.score_samples(incorrect)\n",
    "score_cor = gmm.score_samples(correct)\n",
    "print(np.sum(score_inc)/score_inc.shape[0])\n",
    "print(np.sum(score_cor)/score_cor.shape[0])"
   ]
  },
  {
   "cell_type": "code",
   "execution_count": 118,
   "id": "running-prisoner",
   "metadata": {},
   "outputs": [
    {
     "data": {
      "text/plain": [
       "<matplotlib.collections.PathCollection at 0x272014ebda0>"
      ]
     },
     "execution_count": 118,
     "metadata": {},
     "output_type": "execute_result"
    },
    {
     "data": {
      "image/png": "[encoded data removed]",
      "text/plain": [
       "<Figure size 432x288 with 1 Axes>"
      ]
     },
     "metadata": {
      "needs_background": "light"
     },
     "output_type": "display_data"
    }
   ],
   "source": [
    "plt.scatter(range(score_cor.shape[0]),score_cor, color='Blue')\n",
    "plt.scatter(range(score_inc.shape[0]),score_inc, color='Red')\n"
   ]
  },
  {
   "cell_type": "code",
   "execution_count": null,
   "id": "affecting-double",
   "metadata": {},
   "outputs": [],
   "source": [
    "fig, ax = plt.subplots()\n",
    "for i in range(81):\n",
    "    ax.cla()\n",
    "    ax.scatter(correct[1,:,0,i], correct[1,:,1,i])\n",
    "    ax.set_xlim(-5, 5)\n",
    "    ax.set_ylim(0, 6)\n",
    "    display(fig)\n",
    "    clear_output(wait=True)\n",
    "    plt.pause(0.001)"
   ]
  }
 ],
 "metadata": {
  "kernelspec": {
   "display_name": "Python 3",
   "language": "python",
   "name": "python3"
  },
  "language_info": {
   "codemirror_mode": {
    "name": "ipython",
    "version": 3
   },
   "file_extension": ".py",
   "mimetype": "text/x-python",
   "name": "python",
   "nbconvert_exporter": "python",
   "pygments_lexer": "ipython3",
   "version": "3.6.5"
  }
 },
 "nbformat": 4,
 "nbformat_minor": 5
}
